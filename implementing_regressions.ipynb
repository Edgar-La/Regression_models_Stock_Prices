{
 "cells": [
  {
   "cell_type": "code",
   "outputs": [],
   "source": [
    "from ucimlrepo import fetch_ucirepo\n",
    "\n",
    "import pandas as pd\n",
    "\n",
    "pd.options.mode.chained_assignment = None"
   ],
   "metadata": {
    "collapsed": false,
    "ExecuteTime": {
     "end_time": "2024-05-23T03:30:17.638156Z",
     "start_time": "2024-05-23T03:30:17.582306Z"
    }
   },
   "id": "394d8ee51add4a54",
   "execution_count": 2
  },
  {
   "cell_type": "code",
   "execution_count": 10,
   "id": "initial_id",
   "metadata": {
    "collapsed": true,
    "ExecuteTime": {
     "end_time": "2024-05-23T03:31:54.027965Z",
     "start_time": "2024-05-23T03:31:53.184081Z"
    }
   },
   "outputs": [],
   "source": [
    "# fetch dataset \n",
    "dow_jones_index = fetch_ucirepo(id=312) \n",
    "  \n",
    "# data (as pandas dataframes) \n",
    "df = dow_jones_index.data.features"
   ]
  },
  {
   "cell_type": "code",
   "outputs": [
    {
     "data": {
      "text/plain": "     quarter stock       date    open    high     low   close     volume  \\\n0          1    AA   1/7/2011  $15.82  $16.72  $15.78  $16.42  239655616   \n1          1    AA  1/14/2011  $16.71  $16.71  $15.64  $15.97  242963398   \n2          1    AA  1/21/2011  $16.19  $16.38  $15.60  $15.79  138428495   \n3          1    AA  1/28/2011  $15.87  $16.63  $15.82  $16.13  151379173   \n4          1    AA   2/4/2011  $16.18  $17.39  $16.18  $17.14  154387761   \n..       ...   ...        ...     ...     ...     ...     ...        ...   \n745        2   XOM  5/27/2011  $80.22  $82.63  $80.07  $82.63   68230855   \n746        2   XOM   6/3/2011  $83.28  $83.75  $80.18  $81.18   78616295   \n747        2   XOM  6/10/2011  $80.93  $81.87  $79.72  $79.78   92380844   \n748        2   XOM  6/17/2011  $80.00  $80.82  $78.33  $79.02  100521400   \n749        2   XOM  6/24/2011  $78.65  $81.12  $76.78  $76.78  118679791   \n\n     percent_change_price  percent_change_volume_over_last_wk  \\\n0                 3.79267                                 NaN   \n1                -4.42849                            1.380223   \n2                -2.47066                          -43.024959   \n3                 1.63831                            9.355500   \n4                 5.93325                            1.987452   \n..                    ...                                 ...   \n745               3.00424                          -21.355713   \n746              -2.52161                           15.221032   \n747              -1.42098                           17.508519   \n748              -1.22500                            8.811952   \n749              -2.37762                           18.064204   \n\n     previous_weeks_volume next_weeks_open next_weeks_close  \\\n0                      NaN          $16.71           $15.97   \n1              239655616.0          $16.19           $15.79   \n2              242963398.0          $15.87           $16.13   \n3              138428495.0          $16.18           $17.14   \n4              151379173.0          $17.33           $17.37   \n..                     ...             ...              ...   \n745             86758820.0          $83.28           $81.18   \n746             68230855.0          $80.93           $79.78   \n747             78616295.0          $80.00           $79.02   \n748             92380844.0          $78.65           $76.78   \n749            100521400.0          $76.88           $82.01   \n\n     days_to_next_dividend  percent_return_next_dividend  \n0                       26                      0.182704  \n1                       19                      0.187852  \n2                       12                      0.189994  \n3                        5                      0.185989  \n4                       97                      0.175029  \n..                     ...                           ...  \n745                     75                      0.568801  \n746                     68                      0.578960  \n747                     61                      0.589120  \n748                     54                      0.594786  \n749                     47                      0.612139  \n\n[750 rows x 15 columns]",
      "text/html": "<div>\n<style scoped>\n    .dataframe tbody tr th:only-of-type {\n        vertical-align: middle;\n    }\n\n    .dataframe tbody tr th {\n        vertical-align: top;\n    }\n\n    .dataframe thead th {\n        text-align: right;\n    }\n</style>\n<table border=\"1\" class=\"dataframe\">\n  <thead>\n    <tr style=\"text-align: right;\">\n      <th></th>\n      <th>quarter</th>\n      <th>stock</th>\n      <th>date</th>\n      <th>open</th>\n      <th>high</th>\n      <th>low</th>\n      <th>close</th>\n      <th>volume</th>\n      <th>percent_change_price</th>\n      <th>percent_change_volume_over_last_wk</th>\n      <th>previous_weeks_volume</th>\n      <th>next_weeks_open</th>\n      <th>next_weeks_close</th>\n      <th>days_to_next_dividend</th>\n      <th>percent_return_next_dividend</th>\n    </tr>\n  </thead>\n  <tbody>\n    <tr>\n      <th>0</th>\n      <td>1</td>\n      <td>AA</td>\n      <td>1/7/2011</td>\n      <td>$15.82</td>\n      <td>$16.72</td>\n      <td>$15.78</td>\n      <td>$16.42</td>\n      <td>239655616</td>\n      <td>3.79267</td>\n      <td>NaN</td>\n      <td>NaN</td>\n      <td>$16.71</td>\n      <td>$15.97</td>\n      <td>26</td>\n      <td>0.182704</td>\n    </tr>\n    <tr>\n      <th>1</th>\n      <td>1</td>\n      <td>AA</td>\n      <td>1/14/2011</td>\n      <td>$16.71</td>\n      <td>$16.71</td>\n      <td>$15.64</td>\n      <td>$15.97</td>\n      <td>242963398</td>\n      <td>-4.42849</td>\n      <td>1.380223</td>\n      <td>239655616.0</td>\n      <td>$16.19</td>\n      <td>$15.79</td>\n      <td>19</td>\n      <td>0.187852</td>\n    </tr>\n    <tr>\n      <th>2</th>\n      <td>1</td>\n      <td>AA</td>\n      <td>1/21/2011</td>\n      <td>$16.19</td>\n      <td>$16.38</td>\n      <td>$15.60</td>\n      <td>$15.79</td>\n      <td>138428495</td>\n      <td>-2.47066</td>\n      <td>-43.024959</td>\n      <td>242963398.0</td>\n      <td>$15.87</td>\n      <td>$16.13</td>\n      <td>12</td>\n      <td>0.189994</td>\n    </tr>\n    <tr>\n      <th>3</th>\n      <td>1</td>\n      <td>AA</td>\n      <td>1/28/2011</td>\n      <td>$15.87</td>\n      <td>$16.63</td>\n      <td>$15.82</td>\n      <td>$16.13</td>\n      <td>151379173</td>\n      <td>1.63831</td>\n      <td>9.355500</td>\n      <td>138428495.0</td>\n      <td>$16.18</td>\n      <td>$17.14</td>\n      <td>5</td>\n      <td>0.185989</td>\n    </tr>\n    <tr>\n      <th>4</th>\n      <td>1</td>\n      <td>AA</td>\n      <td>2/4/2011</td>\n      <td>$16.18</td>\n      <td>$17.39</td>\n      <td>$16.18</td>\n      <td>$17.14</td>\n      <td>154387761</td>\n      <td>5.93325</td>\n      <td>1.987452</td>\n      <td>151379173.0</td>\n      <td>$17.33</td>\n      <td>$17.37</td>\n      <td>97</td>\n      <td>0.175029</td>\n    </tr>\n    <tr>\n      <th>...</th>\n      <td>...</td>\n      <td>...</td>\n      <td>...</td>\n      <td>...</td>\n      <td>...</td>\n      <td>...</td>\n      <td>...</td>\n      <td>...</td>\n      <td>...</td>\n      <td>...</td>\n      <td>...</td>\n      <td>...</td>\n      <td>...</td>\n      <td>...</td>\n      <td>...</td>\n    </tr>\n    <tr>\n      <th>745</th>\n      <td>2</td>\n      <td>XOM</td>\n      <td>5/27/2011</td>\n      <td>$80.22</td>\n      <td>$82.63</td>\n      <td>$80.07</td>\n      <td>$82.63</td>\n      <td>68230855</td>\n      <td>3.00424</td>\n      <td>-21.355713</td>\n      <td>86758820.0</td>\n      <td>$83.28</td>\n      <td>$81.18</td>\n      <td>75</td>\n      <td>0.568801</td>\n    </tr>\n    <tr>\n      <th>746</th>\n      <td>2</td>\n      <td>XOM</td>\n      <td>6/3/2011</td>\n      <td>$83.28</td>\n      <td>$83.75</td>\n      <td>$80.18</td>\n      <td>$81.18</td>\n      <td>78616295</td>\n      <td>-2.52161</td>\n      <td>15.221032</td>\n      <td>68230855.0</td>\n      <td>$80.93</td>\n      <td>$79.78</td>\n      <td>68</td>\n      <td>0.578960</td>\n    </tr>\n    <tr>\n      <th>747</th>\n      <td>2</td>\n      <td>XOM</td>\n      <td>6/10/2011</td>\n      <td>$80.93</td>\n      <td>$81.87</td>\n      <td>$79.72</td>\n      <td>$79.78</td>\n      <td>92380844</td>\n      <td>-1.42098</td>\n      <td>17.508519</td>\n      <td>78616295.0</td>\n      <td>$80.00</td>\n      <td>$79.02</td>\n      <td>61</td>\n      <td>0.589120</td>\n    </tr>\n    <tr>\n      <th>748</th>\n      <td>2</td>\n      <td>XOM</td>\n      <td>6/17/2011</td>\n      <td>$80.00</td>\n      <td>$80.82</td>\n      <td>$78.33</td>\n      <td>$79.02</td>\n      <td>100521400</td>\n      <td>-1.22500</td>\n      <td>8.811952</td>\n      <td>92380844.0</td>\n      <td>$78.65</td>\n      <td>$76.78</td>\n      <td>54</td>\n      <td>0.594786</td>\n    </tr>\n    <tr>\n      <th>749</th>\n      <td>2</td>\n      <td>XOM</td>\n      <td>6/24/2011</td>\n      <td>$78.65</td>\n      <td>$81.12</td>\n      <td>$76.78</td>\n      <td>$76.78</td>\n      <td>118679791</td>\n      <td>-2.37762</td>\n      <td>18.064204</td>\n      <td>100521400.0</td>\n      <td>$76.88</td>\n      <td>$82.01</td>\n      <td>47</td>\n      <td>0.612139</td>\n    </tr>\n  </tbody>\n</table>\n<p>750 rows × 15 columns</p>\n</div>"
     },
     "execution_count": 11,
     "metadata": {},
     "output_type": "execute_result"
    }
   ],
   "source": [
    "df"
   ],
   "metadata": {
    "collapsed": false,
    "ExecuteTime": {
     "end_time": "2024-05-23T03:31:54.059740Z",
     "start_time": "2024-05-23T03:31:54.029820Z"
    }
   },
   "id": "817bf465f6cde099",
   "execution_count": 11
  }
 ],
 "metadata": {
  "kernelspec": {
   "display_name": "Python 3",
   "language": "python",
   "name": "python3"
  },
  "language_info": {
   "codemirror_mode": {
    "name": "ipython",
    "version": 2
   },
   "file_extension": ".py",
   "mimetype": "text/x-python",
   "name": "python",
   "nbconvert_exporter": "python",
   "pygments_lexer": "ipython2",
   "version": "2.7.6"
  }
 },
 "nbformat": 4,
 "nbformat_minor": 5
}
