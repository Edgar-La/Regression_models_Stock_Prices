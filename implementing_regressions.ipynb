{
 "cells": [
  {
   "cell_type": "code",
   "outputs": [],
   "source": [
    "from ucimlrepo import fetch_ucirepo\n",
    "\n",
    "import numpy as np\n",
    "import pandas as pd\n",
    "from tqdm import tqdm\n",
    "import seaborn as sns\n",
    "import matplotlib.pyplot as plt\n",
    "\n",
    "pd.options.mode.chained_assignment = None\n",
    "from sklearn.preprocessing import LabelEncoder\n",
    "from sklearn.preprocessing import StandardScaler\n",
    "\n",
    "\n",
    "from sklearn.linear_model import LinearRegression\n",
    "from sklearn.tree import DecisionTreeRegressor\n",
    "from sklearn.ensemble import RandomForestRegressor\n",
    "from sklearn.ensemble import GradientBoostingRegressor\n",
    "from sklearn.ensemble import ExtraTreesRegressor\n",
    "from sklearn.neural_network import MLPRegressor"
   ],
   "metadata": {
    "collapsed": false,
    "ExecuteTime": {
     "end_time": "2024-05-23T03:30:17.638156Z",
     "start_time": "2024-05-23T03:30:17.582306Z"
    }
   },
   "id": "394d8ee51add4a54",
   "execution_count": 2
  },
  {
   "cell_type": "code",
   "execution_count": 10,
   "id": "initial_id",
   "metadata": {
    "collapsed": true,
    "ExecuteTime": {
     "end_time": "2024-05-23T03:31:54.027965Z",
     "start_time": "2024-05-23T03:31:53.184081Z"
    }
   },
   "outputs": [],
   "source": [
    "# fetch dataset \n",
    "dow_jones_index = fetch_ucirepo(id=312) \n",
    "  \n",
    "# data (as pandas dataframes) \n",
    "df = dow_jones_index.data.features"
   ]
  },
  {
   "cell_type": "code",
   "outputs": [
    {
     "data": {
      "text/plain": "     quarter stock       date    open    high     low   close     volume  \\\n0          1    AA   1/7/2011  $15.82  $16.72  $15.78  $16.42  239655616   \n1          1    AA  1/14/2011  $16.71  $16.71  $15.64  $15.97  242963398   \n2          1    AA  1/21/2011  $16.19  $16.38  $15.60  $15.79  138428495   \n3          1    AA  1/28/2011  $15.87  $16.63  $15.82  $16.13  151379173   \n4          1    AA   2/4/2011  $16.18  $17.39  $16.18  $17.14  154387761   \n..       ...   ...        ...     ...     ...     ...     ...        ...   \n745        2   XOM  5/27/2011  $80.22  $82.63  $80.07  $82.63   68230855   \n746        2   XOM   6/3/2011  $83.28  $83.75  $80.18  $81.18   78616295   \n747        2   XOM  6/10/2011  $80.93  $81.87  $79.72  $79.78   92380844   \n748        2   XOM  6/17/2011  $80.00  $80.82  $78.33  $79.02  100521400   \n749        2   XOM  6/24/2011  $78.65  $81.12  $76.78  $76.78  118679791   \n\n     percent_change_price  percent_change_volume_over_last_wk  \\\n0                 3.79267                                 NaN   \n1                -4.42849                            1.380223   \n2                -2.47066                          -43.024959   \n3                 1.63831                            9.355500   \n4                 5.93325                            1.987452   \n..                    ...                                 ...   \n745               3.00424                          -21.355713   \n746              -2.52161                           15.221032   \n747              -1.42098                           17.508519   \n748              -1.22500                            8.811952   \n749              -2.37762                           18.064204   \n\n     previous_weeks_volume next_weeks_open next_weeks_close  \\\n0                      NaN          $16.71           $15.97   \n1              239655616.0          $16.19           $15.79   \n2              242963398.0          $15.87           $16.13   \n3              138428495.0          $16.18           $17.14   \n4              151379173.0          $17.33           $17.37   \n..                     ...             ...              ...   \n745             86758820.0          $83.28           $81.18   \n746             68230855.0          $80.93           $79.78   \n747             78616295.0          $80.00           $79.02   \n748             92380844.0          $78.65           $76.78   \n749            100521400.0          $76.88           $82.01   \n\n     days_to_next_dividend  percent_return_next_dividend  \n0                       26                      0.182704  \n1                       19                      0.187852  \n2                       12                      0.189994  \n3                        5                      0.185989  \n4                       97                      0.175029  \n..                     ...                           ...  \n745                     75                      0.568801  \n746                     68                      0.578960  \n747                     61                      0.589120  \n748                     54                      0.594786  \n749                     47                      0.612139  \n\n[750 rows x 15 columns]",
      "text/html": "<div>\n<style scoped>\n    .dataframe tbody tr th:only-of-type {\n        vertical-align: middle;\n    }\n\n    .dataframe tbody tr th {\n        vertical-align: top;\n    }\n\n    .dataframe thead th {\n        text-align: right;\n    }\n</style>\n<table border=\"1\" class=\"dataframe\">\n  <thead>\n    <tr style=\"text-align: right;\">\n      <th></th>\n      <th>quarter</th>\n      <th>stock</th>\n      <th>date</th>\n      <th>open</th>\n      <th>high</th>\n      <th>low</th>\n      <th>close</th>\n      <th>volume</th>\n      <th>percent_change_price</th>\n      <th>percent_change_volume_over_last_wk</th>\n      <th>previous_weeks_volume</th>\n      <th>next_weeks_open</th>\n      <th>next_weeks_close</th>\n      <th>days_to_next_dividend</th>\n      <th>percent_return_next_dividend</th>\n    </tr>\n  </thead>\n  <tbody>\n    <tr>\n      <th>0</th>\n      <td>1</td>\n      <td>AA</td>\n      <td>1/7/2011</td>\n      <td>$15.82</td>\n      <td>$16.72</td>\n      <td>$15.78</td>\n      <td>$16.42</td>\n      <td>239655616</td>\n      <td>3.79267</td>\n      <td>NaN</td>\n      <td>NaN</td>\n      <td>$16.71</td>\n      <td>$15.97</td>\n      <td>26</td>\n      <td>0.182704</td>\n    </tr>\n    <tr>\n      <th>1</th>\n      <td>1</td>\n      <td>AA</td>\n      <td>1/14/2011</td>\n      <td>$16.71</td>\n      <td>$16.71</td>\n      <td>$15.64</td>\n      <td>$15.97</td>\n      <td>242963398</td>\n      <td>-4.42849</td>\n      <td>1.380223</td>\n      <td>239655616.0</td>\n      <td>$16.19</td>\n      <td>$15.79</td>\n      <td>19</td>\n      <td>0.187852</td>\n    </tr>\n    <tr>\n      <th>2</th>\n      <td>1</td>\n      <td>AA</td>\n      <td>1/21/2011</td>\n      <td>$16.19</td>\n      <td>$16.38</td>\n      <td>$15.60</td>\n      <td>$15.79</td>\n      <td>138428495</td>\n      <td>-2.47066</td>\n      <td>-43.024959</td>\n      <td>242963398.0</td>\n      <td>$15.87</td>\n      <td>$16.13</td>\n      <td>12</td>\n      <td>0.189994</td>\n    </tr>\n    <tr>\n      <th>3</th>\n      <td>1</td>\n      <td>AA</td>\n      <td>1/28/2011</td>\n      <td>$15.87</td>\n      <td>$16.63</td>\n      <td>$15.82</td>\n      <td>$16.13</td>\n      <td>151379173</td>\n      <td>1.63831</td>\n      <td>9.355500</td>\n      <td>138428495.0</td>\n      <td>$16.18</td>\n      <td>$17.14</td>\n      <td>5</td>\n      <td>0.185989</td>\n    </tr>\n    <tr>\n      <th>4</th>\n      <td>1</td>\n      <td>AA</td>\n      <td>2/4/2011</td>\n      <td>$16.18</td>\n      <td>$17.39</td>\n      <td>$16.18</td>\n      <td>$17.14</td>\n      <td>154387761</td>\n      <td>5.93325</td>\n      <td>1.987452</td>\n      <td>151379173.0</td>\n      <td>$17.33</td>\n      <td>$17.37</td>\n      <td>97</td>\n      <td>0.175029</td>\n    </tr>\n    <tr>\n      <th>...</th>\n      <td>...</td>\n      <td>...</td>\n      <td>...</td>\n      <td>...</td>\n      <td>...</td>\n      <td>...</td>\n      <td>...</td>\n      <td>...</td>\n      <td>...</td>\n      <td>...</td>\n      <td>...</td>\n      <td>...</td>\n      <td>...</td>\n      <td>...</td>\n      <td>...</td>\n    </tr>\n    <tr>\n      <th>745</th>\n      <td>2</td>\n      <td>XOM</td>\n      <td>5/27/2011</td>\n      <td>$80.22</td>\n      <td>$82.63</td>\n      <td>$80.07</td>\n      <td>$82.63</td>\n      <td>68230855</td>\n      <td>3.00424</td>\n      <td>-21.355713</td>\n      <td>86758820.0</td>\n      <td>$83.28</td>\n      <td>$81.18</td>\n      <td>75</td>\n      <td>0.568801</td>\n    </tr>\n    <tr>\n      <th>746</th>\n      <td>2</td>\n      <td>XOM</td>\n      <td>6/3/2011</td>\n      <td>$83.28</td>\n      <td>$83.75</td>\n      <td>$80.18</td>\n      <td>$81.18</td>\n      <td>78616295</td>\n      <td>-2.52161</td>\n      <td>15.221032</td>\n      <td>68230855.0</td>\n      <td>$80.93</td>\n      <td>$79.78</td>\n      <td>68</td>\n      <td>0.578960</td>\n    </tr>\n    <tr>\n      <th>747</th>\n      <td>2</td>\n      <td>XOM</td>\n      <td>6/10/2011</td>\n      <td>$80.93</td>\n      <td>$81.87</td>\n      <td>$79.72</td>\n      <td>$79.78</td>\n      <td>92380844</td>\n      <td>-1.42098</td>\n      <td>17.508519</td>\n      <td>78616295.0</td>\n      <td>$80.00</td>\n      <td>$79.02</td>\n      <td>61</td>\n      <td>0.589120</td>\n    </tr>\n    <tr>\n      <th>748</th>\n      <td>2</td>\n      <td>XOM</td>\n      <td>6/17/2011</td>\n      <td>$80.00</td>\n      <td>$80.82</td>\n      <td>$78.33</td>\n      <td>$79.02</td>\n      <td>100521400</td>\n      <td>-1.22500</td>\n      <td>8.811952</td>\n      <td>92380844.0</td>\n      <td>$78.65</td>\n      <td>$76.78</td>\n      <td>54</td>\n      <td>0.594786</td>\n    </tr>\n    <tr>\n      <th>749</th>\n      <td>2</td>\n      <td>XOM</td>\n      <td>6/24/2011</td>\n      <td>$78.65</td>\n      <td>$81.12</td>\n      <td>$76.78</td>\n      <td>$76.78</td>\n      <td>118679791</td>\n      <td>-2.37762</td>\n      <td>18.064204</td>\n      <td>100521400.0</td>\n      <td>$76.88</td>\n      <td>$82.01</td>\n      <td>47</td>\n      <td>0.612139</td>\n    </tr>\n  </tbody>\n</table>\n<p>750 rows × 15 columns</p>\n</div>"
     },
     "execution_count": 11,
     "metadata": {},
     "output_type": "execute_result"
    }
   ],
   "source": [
    "df"
   ],
   "metadata": {
    "collapsed": false,
    "ExecuteTime": {
     "end_time": "2024-05-23T03:31:54.059740Z",
     "start_time": "2024-05-23T03:31:54.029820Z"
    }
   },
   "id": "817bf465f6cde099",
   "execution_count": 11
  },
  {
   "cell_type": "code",
   "outputs": [
    {
     "data": {
      "text/plain": "   quarter stock    open    high     low   close     volume  \\\n0        1    AA  $15.82  $16.72  $15.78  $16.42  239655616   \n1        1    AA  $16.71  $16.71  $15.64  $15.97  242963398   \n2        1    AA  $16.19  $16.38  $15.60  $15.79  138428495   \n3        1    AA  $15.87  $16.63  $15.82  $16.13  151379173   \n4        1    AA  $16.18  $17.39  $16.18  $17.14  154387761   \n\n   percent_return_next_dividend  \n0                      0.182704  \n1                      0.187852  \n2                      0.189994  \n3                      0.185989  \n4                      0.175029  ",
      "text/html": "<div>\n<style scoped>\n    .dataframe tbody tr th:only-of-type {\n        vertical-align: middle;\n    }\n\n    .dataframe tbody tr th {\n        vertical-align: top;\n    }\n\n    .dataframe thead th {\n        text-align: right;\n    }\n</style>\n<table border=\"1\" class=\"dataframe\">\n  <thead>\n    <tr style=\"text-align: right;\">\n      <th></th>\n      <th>quarter</th>\n      <th>stock</th>\n      <th>open</th>\n      <th>high</th>\n      <th>low</th>\n      <th>close</th>\n      <th>volume</th>\n      <th>percent_return_next_dividend</th>\n    </tr>\n  </thead>\n  <tbody>\n    <tr>\n      <th>0</th>\n      <td>1</td>\n      <td>AA</td>\n      <td>$15.82</td>\n      <td>$16.72</td>\n      <td>$15.78</td>\n      <td>$16.42</td>\n      <td>239655616</td>\n      <td>0.182704</td>\n    </tr>\n    <tr>\n      <th>1</th>\n      <td>1</td>\n      <td>AA</td>\n      <td>$16.71</td>\n      <td>$16.71</td>\n      <td>$15.64</td>\n      <td>$15.97</td>\n      <td>242963398</td>\n      <td>0.187852</td>\n    </tr>\n    <tr>\n      <th>2</th>\n      <td>1</td>\n      <td>AA</td>\n      <td>$16.19</td>\n      <td>$16.38</td>\n      <td>$15.60</td>\n      <td>$15.79</td>\n      <td>138428495</td>\n      <td>0.189994</td>\n    </tr>\n    <tr>\n      <th>3</th>\n      <td>1</td>\n      <td>AA</td>\n      <td>$15.87</td>\n      <td>$16.63</td>\n      <td>$15.82</td>\n      <td>$16.13</td>\n      <td>151379173</td>\n      <td>0.185989</td>\n    </tr>\n    <tr>\n      <th>4</th>\n      <td>1</td>\n      <td>AA</td>\n      <td>$16.18</td>\n      <td>$17.39</td>\n      <td>$16.18</td>\n      <td>$17.14</td>\n      <td>154387761</td>\n      <td>0.175029</td>\n    </tr>\n  </tbody>\n</table>\n</div>"
     },
     "execution_count": 18,
     "metadata": {},
     "output_type": "execute_result"
    }
   ],
   "source": [
    "attributes_of_interest = ['quarter', 'stock', 'open', 'high', 'low', 'close', 'volume', 'percent_return_next_dividend']\n",
    "df_filter = df[attributes_of_interest]\n",
    "df_filter.head()"
   ],
   "metadata": {
    "collapsed": false,
    "ExecuteTime": {
     "end_time": "2024-05-23T03:38:07.085130Z",
     "start_time": "2024-05-23T03:38:07.063186Z"
    }
   },
   "id": "34aa7f92f7d268ca",
   "execution_count": 18
  },
  {
   "cell_type": "code",
   "outputs": [
    {
     "name": "stdout",
     "output_type": "stream",
     "text": [
      "<class 'pandas.core.frame.DataFrame'>\n",
      "RangeIndex: 750 entries, 0 to 749\n",
      "Data columns (total 8 columns):\n",
      " #   Column                        Non-Null Count  Dtype  \n",
      "---  ------                        --------------  -----  \n",
      " 0   quarter                       750 non-null    int64  \n",
      " 1   stock                         750 non-null    object \n",
      " 2   open                          750 non-null    object \n",
      " 3   high                          750 non-null    object \n",
      " 4   low                           750 non-null    object \n",
      " 5   close                         750 non-null    object \n",
      " 6   volume                        750 non-null    int64  \n",
      " 7   percent_return_next_dividend  750 non-null    float64\n",
      "dtypes: float64(1), int64(2), object(5)\n",
      "memory usage: 47.0+ KB\n"
     ]
    }
   ],
   "source": [
    "df_filter.info()"
   ],
   "metadata": {
    "collapsed": false,
    "ExecuteTime": {
     "end_time": "2024-05-23T03:39:01.856347Z",
     "start_time": "2024-05-23T03:39:01.832409Z"
    }
   },
   "id": "9111a7b628127692",
   "execution_count": 19
  },
  {
   "cell_type": "code",
   "outputs": [
    {
     "name": "stderr",
     "output_type": "stream",
     "text": [
      "C:\\Users\\edfli\\.conda\\envs\\python37_data_vis\\lib\\site-packages\\ipykernel_launcher.py:2: FutureWarning: The default value of regex will change from True to False in a future version. In addition, single character regular expressions will *not* be treated as literal strings when regex=True.\n",
      "  \n"
     ]
    }
   ],
   "source": [
    "for attribute in ['open', 'high', 'low', 'close']:\n",
    "  df_filter[attribute] = df_filter[attribute].str.replace('$', '').astype(float)"
   ],
   "metadata": {
    "collapsed": false,
    "ExecuteTime": {
     "end_time": "2024-05-23T03:39:17.512467Z",
     "start_time": "2024-05-23T03:39:17.481546Z"
    }
   },
   "id": "5dc0605c15983e42",
   "execution_count": 20
  },
  {
   "cell_type": "code",
   "outputs": [],
   "source": [
    "le = LabelEncoder()\n",
    "\n",
    "stocks = df_filter['stock'].unique()\n",
    "le.fit(stocks)\n",
    "df_filter['stock'] = le.transform(df_filter['stock'])"
   ],
   "metadata": {
    "collapsed": false,
    "ExecuteTime": {
     "end_time": "2024-05-23T03:39:43.503348Z",
     "start_time": "2024-05-23T03:39:43.482407Z"
    }
   },
   "id": "aeb250939cf3139c",
   "execution_count": 21
  },
  {
   "cell_type": "code",
   "outputs": [
    {
     "data": {
      "text/plain": "   quarter  stock   open   high    low  close     volume  \\\n0        1      0  15.82  16.72  15.78  16.42  239655616   \n1        1      0  16.71  16.71  15.64  15.97  242963398   \n2        1      0  16.19  16.38  15.60  15.79  138428495   \n3        1      0  15.87  16.63  15.82  16.13  151379173   \n4        1      0  16.18  17.39  16.18  17.14  154387761   \n\n   percent_return_next_dividend  \n0                      0.182704  \n1                      0.187852  \n2                      0.189994  \n3                      0.185989  \n4                      0.175029  ",
      "text/html": "<div>\n<style scoped>\n    .dataframe tbody tr th:only-of-type {\n        vertical-align: middle;\n    }\n\n    .dataframe tbody tr th {\n        vertical-align: top;\n    }\n\n    .dataframe thead th {\n        text-align: right;\n    }\n</style>\n<table border=\"1\" class=\"dataframe\">\n  <thead>\n    <tr style=\"text-align: right;\">\n      <th></th>\n      <th>quarter</th>\n      <th>stock</th>\n      <th>open</th>\n      <th>high</th>\n      <th>low</th>\n      <th>close</th>\n      <th>volume</th>\n      <th>percent_return_next_dividend</th>\n    </tr>\n  </thead>\n  <tbody>\n    <tr>\n      <th>0</th>\n      <td>1</td>\n      <td>0</td>\n      <td>15.82</td>\n      <td>16.72</td>\n      <td>15.78</td>\n      <td>16.42</td>\n      <td>239655616</td>\n      <td>0.182704</td>\n    </tr>\n    <tr>\n      <th>1</th>\n      <td>1</td>\n      <td>0</td>\n      <td>16.71</td>\n      <td>16.71</td>\n      <td>15.64</td>\n      <td>15.97</td>\n      <td>242963398</td>\n      <td>0.187852</td>\n    </tr>\n    <tr>\n      <th>2</th>\n      <td>1</td>\n      <td>0</td>\n      <td>16.19</td>\n      <td>16.38</td>\n      <td>15.60</td>\n      <td>15.79</td>\n      <td>138428495</td>\n      <td>0.189994</td>\n    </tr>\n    <tr>\n      <th>3</th>\n      <td>1</td>\n      <td>0</td>\n      <td>15.87</td>\n      <td>16.63</td>\n      <td>15.82</td>\n      <td>16.13</td>\n      <td>151379173</td>\n      <td>0.185989</td>\n    </tr>\n    <tr>\n      <th>4</th>\n      <td>1</td>\n      <td>0</td>\n      <td>16.18</td>\n      <td>17.39</td>\n      <td>16.18</td>\n      <td>17.14</td>\n      <td>154387761</td>\n      <td>0.175029</td>\n    </tr>\n  </tbody>\n</table>\n</div>"
     },
     "execution_count": 22,
     "metadata": {},
     "output_type": "execute_result"
    }
   ],
   "source": [
    "df_filter.head()"
   ],
   "metadata": {
    "collapsed": false,
    "ExecuteTime": {
     "end_time": "2024-05-23T03:39:51.485902Z",
     "start_time": "2024-05-23T03:39:51.463957Z"
    }
   },
   "id": "abb9f820af8c1ec6",
   "execution_count": 22
  },
  {
   "cell_type": "code",
   "outputs": [
    {
     "name": "stdout",
     "output_type": "stream",
     "text": [
      "<class 'pandas.core.frame.DataFrame'>\n",
      "RangeIndex: 750 entries, 0 to 749\n",
      "Data columns (total 8 columns):\n",
      " #   Column                        Non-Null Count  Dtype  \n",
      "---  ------                        --------------  -----  \n",
      " 0   quarter                       750 non-null    int64  \n",
      " 1   stock                         750 non-null    int32  \n",
      " 2   open                          750 non-null    float64\n",
      " 3   high                          750 non-null    float64\n",
      " 4   low                           750 non-null    float64\n",
      " 5   close                         750 non-null    float64\n",
      " 6   volume                        750 non-null    int64  \n",
      " 7   percent_return_next_dividend  750 non-null    float64\n",
      "dtypes: float64(5), int32(1), int64(2)\n",
      "memory usage: 44.1 KB\n"
     ]
    }
   ],
   "source": [
    "df_filter.info()"
   ],
   "metadata": {
    "collapsed": false,
    "ExecuteTime": {
     "end_time": "2024-05-23T03:39:55.940695Z",
     "start_time": "2024-05-23T03:39:55.919751Z"
    }
   },
   "id": "28f3a710dcfb8ea9",
   "execution_count": 23
  },
  {
   "cell_type": "code",
   "outputs": [],
   "source": [
    "df_train = df_filter[df_filter['quarter'] == 1]\n",
    "df_test = df_filter[df_filter['quarter'] == 2]"
   ],
   "metadata": {
    "collapsed": false,
    "ExecuteTime": {
     "end_time": "2024-05-23T03:40:31.988527Z",
     "start_time": "2024-05-23T03:40:31.973565Z"
    }
   },
   "id": "60e77eb281118152",
   "execution_count": 24
  },
  {
   "cell_type": "code",
   "outputs": [
    {
     "name": "stdout",
     "output_type": "stream",
     "text": [
      "(360, 7) (360,)\n",
      "(390, 7) (390,)\n"
     ]
    }
   ],
   "source": [
    "labels_train = df_train['percent_return_next_dividend'].copy()\n",
    "df_train.drop(columns=['percent_return_next_dividend'], inplace = True)\n",
    "\n",
    "labels_test = df_test['percent_return_next_dividend'].copy()\n",
    "df_test.drop(columns=['percent_return_next_dividend'], inplace = True)\n",
    "\n",
    "print(df_train.shape, labels_train.shape)\n",
    "print(df_test.shape, labels_test.shape)"
   ],
   "metadata": {
    "collapsed": false,
    "ExecuteTime": {
     "end_time": "2024-05-23T03:40:41.929670Z",
     "start_time": "2024-05-23T03:40:41.907730Z"
    }
   },
   "id": "7677bde9780349fb",
   "execution_count": 25
  },
  {
   "cell_type": "code",
   "outputs": [],
   "source": [
    "scaler = StandardScaler()\n",
    "x_train = scaler.fit_transform(df_train)\n",
    "x_test = scaler.fit_transform(df_test)"
   ],
   "metadata": {
    "collapsed": false,
    "ExecuteTime": {
     "end_time": "2024-05-23T03:41:35.247671Z",
     "start_time": "2024-05-23T03:41:35.222736Z"
    }
   },
   "id": "36f619e8c0ec8d0c",
   "execution_count": 26
  },
  {
   "cell_type": "code",
   "outputs": [],
   "source": [
    "regressors = [LinearRegression(),\n",
    "              DecisionTreeRegressor(),\n",
    "              RandomForestRegressor(),\n",
    "              GradientBoostingRegressor(),\n",
    "              ExtraTreesRegressor(),\n",
    "              MLPRegressor(hidden_layer_sizes=(1000,))]\n",
    "\n",
    "regressors_names = ['LinearReg',\n",
    "              'DecisionTreeReg',\n",
    "              'RandomForestReg',\n",
    "              'GradientBoostingReg',\n",
    "              'ExtraTreesReg',\n",
    "              'MLPReg']"
   ],
   "metadata": {
    "collapsed": false,
    "ExecuteTime": {
     "end_time": "2024-05-23T03:42:33.901686Z",
     "start_time": "2024-05-23T03:42:33.893709Z"
    }
   },
   "id": "4b185da822e947b9",
   "execution_count": 27
  },
  {
   "cell_type": "markdown",
   "source": [
    "$$MSE = \\frac{1}{n} \\sum_{i=1}^{n} (y_i - \\hat{y}_i)^2$$"
   ],
   "metadata": {
    "collapsed": false
   },
   "id": "3e95af7abcea2e6e"
  },
  {
   "cell_type": "code",
   "outputs": [],
   "source": [
    "# Mean Squared Error\n",
    "def mean_squared_error(y_true, y_pred):\n",
    "    return np.mean((y_true - y_pred) ** 2)"
   ],
   "metadata": {
    "collapsed": false,
    "ExecuteTime": {
     "end_time": "2024-05-23T03:45:40.069559Z",
     "start_time": "2024-05-23T03:45:40.060583Z"
    }
   },
   "id": "34885ad7f5b88",
   "execution_count": 28
  },
  {
   "cell_type": "markdown",
   "source": [
    "$$MAE = \\frac{1}{n} \\sum_{i=1}^{n} |y_i - \\hat{y}_i|$$"
   ],
   "metadata": {
    "collapsed": false
   },
   "id": "1e7bda52cb76d0f9"
  },
  {
   "cell_type": "code",
   "outputs": [],
   "source": [
    "# Mean Absolute Error\n",
    "def mean_absolute_error(y_true, y_pred):\n",
    "    return np.mean(np.abs(y_true - y_pred))"
   ],
   "metadata": {
    "collapsed": false,
    "ExecuteTime": {
     "end_time": "2024-05-23T03:45:46.289507Z",
     "start_time": "2024-05-23T03:45:46.277538Z"
    }
   },
   "id": "ac736b7125a02e81",
   "execution_count": 29
  },
  {
   "cell_type": "markdown",
   "source": [
    "$$RSE = \\frac{\\sum_{i=1}^{n} (y_i - \\hat{y}_i)^2}{\\sum_{i=1}^{n} (y_i - \\bar{y})^2}$$"
   ],
   "metadata": {
    "collapsed": false
   },
   "id": "97c9a884912c9bbf"
  },
  {
   "cell_type": "code",
   "outputs": [],
   "source": [
    "# Relative Absolute Error\n",
    "def relative_absolute_error(y_true, y_pred):\n",
    "    numerator = np.sum(np.abs(y_true - y_pred))\n",
    "    denominator = np.sum(np.abs(y_true - np.mean(y_true)))\n",
    "    return numerator / denominator"
   ],
   "metadata": {
    "collapsed": false,
    "ExecuteTime": {
     "end_time": "2024-05-23T03:45:55.286837Z",
     "start_time": "2024-05-23T03:45:55.266902Z"
    }
   },
   "id": "e7b0b169c56175b4",
   "execution_count": 30
  },
  {
   "cell_type": "markdown",
   "source": [
    "$$RAE = \\frac{\\sum_{i=1}^{n} |y_i - \\hat{y}_i|}{\\sum_{i=1}^{n} |y_i - \\bar{y}|}$$"
   ],
   "metadata": {
    "collapsed": false
   },
   "id": "bc9d75255fd92dab"
  },
  {
   "cell_type": "code",
   "outputs": [],
   "source": [
    "# Residual Standard Error\n",
    "def residual_standard_error(y_true, y_pred):\n",
    "    residual_sum_of_squares = np.sum((y_true - y_pred) ** 2)\n",
    "    degrees_of_freedom = len(y_true) - 2\n",
    "    return np.sqrt(residual_sum_of_squares / degrees_of_freedom)"
   ],
   "metadata": {
    "collapsed": false,
    "ExecuteTime": {
     "end_time": "2024-05-23T03:46:02.269616Z",
     "start_time": "2024-05-23T03:46:02.262635Z"
    }
   },
   "id": "d72d65ef6e5e11a7",
   "execution_count": 31
  },
  {
   "cell_type": "markdown",
   "source": [
    "$$MAPE = \\frac{1}{n} \\sum_{i=1}^{n} \\left|\\frac{y_i - \\hat{y}_i}{y_i}\\right| \\times 100\\%$$"
   ],
   "metadata": {
    "collapsed": false
   },
   "id": "7ae4ba636af8583b"
  },
  {
   "cell_type": "code",
   "outputs": [],
   "source": [
    "# Mean absolute percentage error\n",
    "def mean_absolute_percentage_error(y, y_hat):\n",
    "    mape = np.mean(np.abs((y - y_hat) / y)) * 100\n",
    "    return mape"
   ],
   "metadata": {
    "collapsed": false,
    "ExecuteTime": {
     "end_time": "2024-05-23T03:46:08.330394Z",
     "start_time": "2024-05-23T03:46:08.317430Z"
    }
   },
   "id": "b9b72c050a376555",
   "execution_count": 32
  },
  {
   "cell_type": "markdown",
   "source": [
    "$$R = \\frac{\\sum_{i=1}^{n} (x_i - \\bar{x})(y_i - \\bar{y})}{\\sqrt{\\sum_{i=1}^{n} (x_i - \\bar{x})^2 \\sum_{i=1}^{n} (y_i - \\bar{y})^2}}$$"
   ],
   "metadata": {
    "collapsed": false
   },
   "id": "229d24edd6b61a6e"
  },
  {
   "cell_type": "code",
   "outputs": [],
   "source": [
    "# correlation coefficient\n",
    "def correlation_coefficient(y, y_hat):\n",
    "    y_mean = np.mean(y)\n",
    "    y_hat_mean = np.mean(y_hat)\n",
    "    numerator = np.sum((y - y_mean) * (y_hat - y_hat_mean))\n",
    "    denominator = np.sqrt(np.sum((y - y_mean) ** 2) * np.sum((y_hat - y_hat_mean) ** 2))\n",
    "    r = numerator / denominator\n",
    "    return r"
   ],
   "metadata": {
    "collapsed": false,
    "ExecuteTime": {
     "end_time": "2024-05-23T03:46:15.007368Z",
     "start_time": "2024-05-23T03:46:14.997395Z"
    }
   },
   "id": "f4e97eba6874ebf5",
   "execution_count": 33
  },
  {
   "cell_type": "markdown",
   "source": [
    "$$R^2 = 1 - \\frac{\\sum_{i=1}^{n} (y_i - \\hat{y}_i)^2}{\\sum_{i=1}^{n} (y_i - \\bar{y})^2}$$"
   ],
   "metadata": {
    "collapsed": false
   },
   "id": "9d0576ecb6582df8"
  },
  {
   "cell_type": "code",
   "outputs": [],
   "source": [
    "# R-squared\n",
    "def r_squared(y_true, y_pred):\n",
    "    ss_res = np.sum((y_true - y_pred) ** 2)\n",
    "    ss_tot = np.sum((y_true - np.mean(y_true)) ** 2)\n",
    "    return 1 - (ss_res / ss_tot)"
   ],
   "metadata": {
    "collapsed": false,
    "ExecuteTime": {
     "end_time": "2024-05-23T03:46:21.334667Z",
     "start_time": "2024-05-23T03:46:21.321701Z"
    }
   },
   "id": "b4af4c46d5d5b227",
   "execution_count": 34
  }
 ],
 "metadata": {
  "kernelspec": {
   "display_name": "Python 3",
   "language": "python",
   "name": "python3"
  },
  "language_info": {
   "codemirror_mode": {
    "name": "ipython",
    "version": 2
   },
   "file_extension": ".py",
   "mimetype": "text/x-python",
   "name": "python",
   "nbconvert_exporter": "python",
   "pygments_lexer": "ipython2",
   "version": "2.7.6"
  }
 },
 "nbformat": 4,
 "nbformat_minor": 5
}
